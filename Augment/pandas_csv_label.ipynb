{
 "cells": [
  {
   "cell_type": "code",
   "execution_count": 1,
   "metadata": {},
   "outputs": [],
   "source": [
    "import pandas as pd\n",
    "df = pd.read_csv('D:\\Code\\Welding_Robot\\DataSet\\Env_Imgs_resized\\Env_imgs_resized_label_csv.csv')"
   ]
  },
  {
   "cell_type": "code",
   "execution_count": 2,
   "metadata": {},
   "outputs": [
    {
     "data": {
      "text/html": [
       "<div>\n",
       "<style scoped>\n",
       "    .dataframe tbody tr th:only-of-type {\n",
       "        vertical-align: middle;\n",
       "    }\n",
       "\n",
       "    .dataframe tbody tr th {\n",
       "        vertical-align: top;\n",
       "    }\n",
       "\n",
       "    .dataframe thead th {\n",
       "        text-align: right;\n",
       "    }\n",
       "</style>\n",
       "<table border=\"1\" class=\"dataframe\">\n",
       "  <thead>\n",
       "    <tr style=\"text-align: right;\">\n",
       "      <th></th>\n",
       "      <th>filename</th>\n",
       "      <th>file_size</th>\n",
       "      <th>file_attributes</th>\n",
       "      <th>region_count</th>\n",
       "      <th>region_id</th>\n",
       "      <th>region_shape_attributes</th>\n",
       "      <th>region_attributes</th>\n",
       "    </tr>\n",
       "  </thead>\n",
       "  <tbody>\n",
       "    <tr>\n",
       "      <th>0</th>\n",
       "      <td>frame-0.jpg</td>\n",
       "      <td>2430</td>\n",
       "      <td>{}</td>\n",
       "      <td>1</td>\n",
       "      <td>0</td>\n",
       "      <td>{\"name\":\"point\",\"cx\":51,\"cy\":50}</td>\n",
       "      <td>{}</td>\n",
       "    </tr>\n",
       "    <tr>\n",
       "      <th>1</th>\n",
       "      <td>frame-1.jpg</td>\n",
       "      <td>2408</td>\n",
       "      <td>{}</td>\n",
       "      <td>1</td>\n",
       "      <td>0</td>\n",
       "      <td>{\"name\":\"point\",\"cx\":51,\"cy\":50}</td>\n",
       "      <td>{}</td>\n",
       "    </tr>\n",
       "    <tr>\n",
       "      <th>2</th>\n",
       "      <td>frame-2.jpg</td>\n",
       "      <td>2460</td>\n",
       "      <td>{}</td>\n",
       "      <td>1</td>\n",
       "      <td>0</td>\n",
       "      <td>{\"name\":\"point\",\"cx\":51,\"cy\":51}</td>\n",
       "      <td>{}</td>\n",
       "    </tr>\n",
       "    <tr>\n",
       "      <th>3</th>\n",
       "      <td>frame-3.jpg</td>\n",
       "      <td>4568</td>\n",
       "      <td>{}</td>\n",
       "      <td>1</td>\n",
       "      <td>0</td>\n",
       "      <td>{\"name\":\"point\",\"cx\":50,\"cy\":51}</td>\n",
       "      <td>{}</td>\n",
       "    </tr>\n",
       "    <tr>\n",
       "      <th>4</th>\n",
       "      <td>frame-4.jpg</td>\n",
       "      <td>6832</td>\n",
       "      <td>{}</td>\n",
       "      <td>1</td>\n",
       "      <td>0</td>\n",
       "      <td>{\"name\":\"point\",\"cx\":50,\"cy\":50}</td>\n",
       "      <td>{}</td>\n",
       "    </tr>\n",
       "    <tr>\n",
       "      <th>5</th>\n",
       "      <td>frame-5.jpg</td>\n",
       "      <td>6929</td>\n",
       "      <td>{}</td>\n",
       "      <td>1</td>\n",
       "      <td>0</td>\n",
       "      <td>{\"name\":\"point\",\"cx\":50,\"cy\":50}</td>\n",
       "      <td>{}</td>\n",
       "    </tr>\n",
       "    <tr>\n",
       "      <th>6</th>\n",
       "      <td>frame-6.jpg</td>\n",
       "      <td>7001</td>\n",
       "      <td>{}</td>\n",
       "      <td>1</td>\n",
       "      <td>0</td>\n",
       "      <td>{\"name\":\"point\",\"cx\":50,\"cy\":50}</td>\n",
       "      <td>{}</td>\n",
       "    </tr>\n",
       "    <tr>\n",
       "      <th>7</th>\n",
       "      <td>frame-7.jpg</td>\n",
       "      <td>6313</td>\n",
       "      <td>{}</td>\n",
       "      <td>1</td>\n",
       "      <td>0</td>\n",
       "      <td>{\"name\":\"point\",\"cx\":50,\"cy\":50}</td>\n",
       "      <td>{}</td>\n",
       "    </tr>\n",
       "    <tr>\n",
       "      <th>8</th>\n",
       "      <td>frame-8.jpg</td>\n",
       "      <td>6257</td>\n",
       "      <td>{}</td>\n",
       "      <td>1</td>\n",
       "      <td>0</td>\n",
       "      <td>{\"name\":\"point\",\"cx\":50,\"cy\":50}</td>\n",
       "      <td>{}</td>\n",
       "    </tr>\n",
       "    <tr>\n",
       "      <th>9</th>\n",
       "      <td>frame-9.jpg</td>\n",
       "      <td>6696</td>\n",
       "      <td>{}</td>\n",
       "      <td>1</td>\n",
       "      <td>0</td>\n",
       "      <td>{\"name\":\"point\",\"cx\":50,\"cy\":50}</td>\n",
       "      <td>{}</td>\n",
       "    </tr>\n",
       "  </tbody>\n",
       "</table>\n",
       "</div>"
      ],
      "text/plain": [
       "      filename  file_size file_attributes  region_count  region_id  \\\n",
       "0  frame-0.jpg       2430              {}             1          0   \n",
       "1  frame-1.jpg       2408              {}             1          0   \n",
       "2  frame-2.jpg       2460              {}             1          0   \n",
       "3  frame-3.jpg       4568              {}             1          0   \n",
       "4  frame-4.jpg       6832              {}             1          0   \n",
       "5  frame-5.jpg       6929              {}             1          0   \n",
       "6  frame-6.jpg       7001              {}             1          0   \n",
       "7  frame-7.jpg       6313              {}             1          0   \n",
       "8  frame-8.jpg       6257              {}             1          0   \n",
       "9  frame-9.jpg       6696              {}             1          0   \n",
       "\n",
       "            region_shape_attributes region_attributes  \n",
       "0  {\"name\":\"point\",\"cx\":51,\"cy\":50}                {}  \n",
       "1  {\"name\":\"point\",\"cx\":51,\"cy\":50}                {}  \n",
       "2  {\"name\":\"point\",\"cx\":51,\"cy\":51}                {}  \n",
       "3  {\"name\":\"point\",\"cx\":50,\"cy\":51}                {}  \n",
       "4  {\"name\":\"point\",\"cx\":50,\"cy\":50}                {}  \n",
       "5  {\"name\":\"point\",\"cx\":50,\"cy\":50}                {}  \n",
       "6  {\"name\":\"point\",\"cx\":50,\"cy\":50}                {}  \n",
       "7  {\"name\":\"point\",\"cx\":50,\"cy\":50}                {}  \n",
       "8  {\"name\":\"point\",\"cx\":50,\"cy\":50}                {}  \n",
       "9  {\"name\":\"point\",\"cx\":50,\"cy\":50}                {}  "
      ]
     },
     "execution_count": 2,
     "metadata": {},
     "output_type": "execute_result"
    }
   ],
   "source": [
    "df.head(10)"
   ]
  },
  {
   "cell_type": "code",
   "execution_count": 3,
   "metadata": {},
   "outputs": [
    {
     "data": {
      "text/plain": [
       "(4708, 7)"
      ]
     },
     "execution_count": 3,
     "metadata": {},
     "output_type": "execute_result"
    }
   ],
   "source": [
    "df.shape"
   ]
  },
  {
   "cell_type": "code",
   "execution_count": 4,
   "metadata": {},
   "outputs": [
    {
     "name": "stdout",
     "output_type": "stream",
     "text": [
      "RangeIndex(start=0, stop=4708, step=1)\n",
      "Index(['filename', 'file_size', 'file_attributes', 'region_count', 'region_id',\n",
      "       'region_shape_attributes', 'region_attributes'],\n",
      "      dtype='object')\n"
     ]
    }
   ],
   "source": [
    "df_row_idx = df.index\n",
    "df_col_idx = df.columns\n",
    "print(df_row_idx)\n",
    "print(df_col_idx)"
   ]
  },
  {
   "cell_type": "code",
   "execution_count": 5,
   "metadata": {},
   "outputs": [
    {
     "data": {
      "text/plain": [
       "filename                   object\n",
       "file_size                   int64\n",
       "file_attributes            object\n",
       "region_count                int64\n",
       "region_id                   int64\n",
       "region_shape_attributes    object\n",
       "region_attributes          object\n",
       "dtype: object"
      ]
     },
     "execution_count": 5,
     "metadata": {},
     "output_type": "execute_result"
    }
   ],
   "source": [
    "df.dtypes"
   ]
  },
  {
   "cell_type": "code",
   "execution_count": 6,
   "metadata": {},
   "outputs": [
    {
     "data": {
      "text/plain": [
       "filename                   0\n",
       "file_size                  0\n",
       "file_attributes            0\n",
       "region_count               0\n",
       "region_id                  0\n",
       "region_shape_attributes    0\n",
       "region_attributes          0\n",
       "dtype: int64"
      ]
     },
     "execution_count": 6,
     "metadata": {},
     "output_type": "execute_result"
    }
   ],
   "source": [
    "# Check missing values\n",
    "\n",
    "df.isnull().sum()"
   ]
  },
  {
   "cell_type": "code",
   "execution_count": 7,
   "metadata": {},
   "outputs": [],
   "source": [
    "import cv2 as cv\n",
    "import albumentations as A"
   ]
  },
  {
   "cell_type": "code",
   "execution_count": 8,
   "metadata": {},
   "outputs": [
    {
     "data": {
      "text/plain": [
       "-1"
      ]
     },
     "execution_count": 8,
     "metadata": {},
     "output_type": "execute_result"
    }
   ],
   "source": [
    "\n",
    "transform = A.Compose([\n",
    "    A.RandomBrightnessContrast(brightness_limit=0.2, contrast_limit=0.2, p=1.0),\n",
    "])\n",
    "\n",
    "image = cv.imread(\"D:/Code/Welding_Robot/DataSet/Env_Imgs_resized/frame-0.jpg\")\n",
    "# image = cv.cvtColor(image, cv.COLOR_BGR2RGB)\n",
    "\n",
    "transformed_image_1 = transform(image=image)['image']\n",
    "\n",
    "cv.namedWindow('trans', cv.WINDOW_NORMAL)\n",
    "cv.imshow('trans',transformed_image_1)\n",
    "cv.waitKey(0)"
   ]
  },
  {
   "cell_type": "code",
   "execution_count": 9,
   "metadata": {},
   "outputs": [],
   "source": [
    "# df.to_csv('D:/Code/Welding_Robot/3D_Laser_Vision_Welding_Robot/Augment/ImgAndLabel.csv')"
   ]
  },
  {
   "cell_type": "code",
   "execution_count": 30,
   "metadata": {},
   "outputs": [],
   "source": [
    "label_df = df[['filename','region_shape_attributes']]"
   ]
  },
  {
   "cell_type": "code",
   "execution_count": 12,
   "metadata": {},
   "outputs": [],
   "source": [
    "label_df.to_csv('D:/Code/Welding_Robot/3D_Laser_Vision_Welding_Robot/Augment/ImgAndLabel.csv')"
   ]
  },
  {
   "cell_type": "code",
   "execution_count": 31,
   "metadata": {},
   "outputs": [
    {
     "data": {
      "text/plain": [
       "pandas.core.frame.DataFrame"
      ]
     },
     "execution_count": 31,
     "metadata": {},
     "output_type": "execute_result"
    }
   ],
   "source": [
    "type(label_df)"
   ]
  },
  {
   "cell_type": "code",
   "execution_count": 32,
   "metadata": {},
   "outputs": [
    {
     "data": {
      "text/html": [
       "<div>\n",
       "<style scoped>\n",
       "    .dataframe tbody tr th:only-of-type {\n",
       "        vertical-align: middle;\n",
       "    }\n",
       "\n",
       "    .dataframe tbody tr th {\n",
       "        vertical-align: top;\n",
       "    }\n",
       "\n",
       "    .dataframe thead th {\n",
       "        text-align: right;\n",
       "    }\n",
       "</style>\n",
       "<table border=\"1\" class=\"dataframe\">\n",
       "  <thead>\n",
       "    <tr style=\"text-align: right;\">\n",
       "      <th></th>\n",
       "      <th>filename</th>\n",
       "      <th>region_shape_attributes</th>\n",
       "    </tr>\n",
       "  </thead>\n",
       "  <tbody>\n",
       "    <tr>\n",
       "      <th>count</th>\n",
       "      <td>4708</td>\n",
       "      <td>4708</td>\n",
       "    </tr>\n",
       "    <tr>\n",
       "      <th>unique</th>\n",
       "      <td>4708</td>\n",
       "      <td>466</td>\n",
       "    </tr>\n",
       "    <tr>\n",
       "      <th>top</th>\n",
       "      <td>frame-0.jpg</td>\n",
       "      <td>{\"name\":\"point\",\"cx\":50,\"cy\":50}</td>\n",
       "    </tr>\n",
       "    <tr>\n",
       "      <th>freq</th>\n",
       "      <td>1</td>\n",
       "      <td>1151</td>\n",
       "    </tr>\n",
       "  </tbody>\n",
       "</table>\n",
       "</div>"
      ],
      "text/plain": [
       "           filename           region_shape_attributes\n",
       "count          4708                              4708\n",
       "unique         4708                               466\n",
       "top     frame-0.jpg  {\"name\":\"point\",\"cx\":50,\"cy\":50}\n",
       "freq              1                              1151"
      ]
     },
     "execution_count": 32,
     "metadata": {},
     "output_type": "execute_result"
    }
   ],
   "source": [
    "label_df.describe()"
   ]
  },
  {
   "cell_type": "code",
   "execution_count": 55,
   "metadata": {},
   "outputs": [
    {
     "data": {
      "text/plain": [
       "{'name': 'point', 'cx': 51, 'cy': 51}"
      ]
     },
     "execution_count": 55,
     "metadata": {},
     "output_type": "execute_result"
    }
   ],
   "source": [
    "a = eval(label_df.iloc[2]['region_shape_attributes'])\n",
    "a"
   ]
  },
  {
   "cell_type": "code",
   "execution_count": 56,
   "metadata": {},
   "outputs": [
    {
     "data": {
      "text/plain": [
       "51"
      ]
     },
     "execution_count": 56,
     "metadata": {},
     "output_type": "execute_result"
    }
   ],
   "source": [
    "a['cx']"
   ]
  }
 ],
 "metadata": {
  "kernelspec": {
   "display_name": "Python 3.9.12 ('d-rl')",
   "language": "python",
   "name": "python3"
  },
  "language_info": {
   "codemirror_mode": {
    "name": "ipython",
    "version": 3
   },
   "file_extension": ".py",
   "mimetype": "text/x-python",
   "name": "python",
   "nbconvert_exporter": "python",
   "pygments_lexer": "ipython3",
   "version": "3.9.12"
  },
  "orig_nbformat": 4,
  "vscode": {
   "interpreter": {
    "hash": "5590b6503f59029da507d4ff348221d6831ad0bf1d8f8a5b64156db53ad8d009"
   }
  }
 },
 "nbformat": 4,
 "nbformat_minor": 2
}
